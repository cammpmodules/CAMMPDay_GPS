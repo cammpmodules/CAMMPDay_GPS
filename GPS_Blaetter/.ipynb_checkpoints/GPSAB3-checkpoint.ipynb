{
 "cells": [
  {
   "cell_type": "markdown",
   "metadata": {},
   "source": [
    "# GPS - Aufgabenblatt 3: Gewichtung der Satelliten\n",
    "## Einleitung\n",
    "Wir haben ursprünglich angenommen, dass die von den Satelliten ausgesendeten Signale mit Lichtgeschwindigkeit zur Erde übertragen werden. Auch das war eine Vereinfachung, denn in Wirklichkeit bremst die Erdatmosphäre das Signal etwas ab.\n",
    "Wie stark ein Signal abgebremst wird hängt davon ab, durch wie viel Atmosphäre das Signal geschickt wird. Signale von Satelliten, die direkt über uns stehen, werden demnach weniger stark abgebremst als Signale von Satelliten die weiter weg sind.\n",
    "\n",
    "*Damit dieses Arbeitsblatt funktioniert, musst du als erstes den folgenden Code ausführen. Klicke dazu auf das Code Feld und drücke auf \"Run\" (oder drücke Shift + Enter).*"
   ]
  },
  {
   "cell_type": "code",
   "execution_count": 1,
   "metadata": {},
   "outputs": [],
   "source": [
    "% Hier nichts ändern\n",
    "addpath(\"./code/OctaveFunctions\")"
   ]
  },
  {
   "cell_type": "markdown",
   "metadata": {},
   "source": [
    "## Einlesen der Satellitendaten\n",
    "Wie immer müssen zunächst die Satellitendaten eigelesen werden. Für dieses Arbeitsblatt steht jedoch nur ein Datensatz zur Verfügung.\n",
    "\n",
    "*Führe den folgenden Code aus, um die Daten einzulesen.* "
   ]
  },
  {
   "cell_type": "code",
   "execution_count": 8,
   "metadata": {},
   "outputs": [
    {
     "name": "stdout",
     "output_type": "stream",
     "text": [
      "Lese Rinex Datei ... : ./RINEXDateien/114255.obs\n",
      "Lese Rinex Datei ... : ./RINEXDateien/114255.nav\n",
      "Satelliten =\n",
      "\n",
      "  1  2  3  4  5  6  7  8\n",
      "\n",
      "Satellitenauswahl =\n",
      "\n",
      "  1  2  3  4  5  6  7  8\n",
      "\n",
      "Wochen =\n",
      "\n",
      "   1749.00   1749.00   1749.00   1749.00   1749.00   1749.00   1749.00   1749.00\n",
      "\n",
      "tE =\n",
      "\n",
      " Columns 1 through 6:\n",
      "\n",
      "   389495.00   389495.00   389495.00   389495.00   389495.00   389495.00\n",
      "\n",
      " Columns 7 and 8:\n",
      "\n",
      "   389495.00   389495.00\n",
      "\n",
      "tS =\n",
      "\n",
      " Columns 1 through 6:\n",
      "\n",
      "   389494.92   389494.92   389494.93   389494.93   389494.92   389494.93\n",
      "\n",
      " Columns 7 and 8:\n",
      "\n",
      "   389494.93   389494.92\n",
      "\n",
      "Signalstaerken =\n",
      "\n",
      "   31.00   32.00   29.00   32.00   28.00   47.00   26.00   44.00\n",
      "\n",
      "Ephemeriden =\n",
      "\n",
      " Columns 1 through 6:\n",
      "\n",
      "       -1.98        1.24        2.62       -0.80       -2.66        1.62\n",
      "        0.00        0.00        0.00        0.00        0.00        0.00\n",
      "        0.01        0.01        0.00        0.01        0.00        0.00\n",
      "     5153.68     5153.57     5153.54     5153.77     5153.67     5153.76\n",
      "       -2.37       -2.35        1.88       -0.18        0.79        1.84\n",
      "        0.94        0.94        0.98        0.97        0.96        0.97\n",
      "       -2.58        0.99        0.32       -2.03        0.39        0.74\n",
      "       -0.00       -0.00       -0.00       -0.00       -0.00       -0.00\n",
      "        0.00       -0.00       -0.00        0.00       -0.00       -0.00\n",
      "       -0.00       -0.00       -0.00        0.00        0.00       -0.00\n",
      "        0.00        0.00        0.00        0.00        0.00        0.00\n",
      "      249.28      244.75      231.34      238.59      349.75      236.38\n",
      "       -9.59       -8.62     -122.69      108.25       10.00     -118.25\n",
      "        0.00       -0.00       -0.00       -0.00       -0.00       -0.00\n",
      "       -0.00       -0.00       -0.00        0.00       -0.00        0.00\n",
      "   396000.00   396000.00   396000.00   396000.00   396000.00   396000.00\n",
      "        0.00        0.00        0.00        0.00       -0.00        0.00\n",
      "        0.00        0.00        0.00       -0.00       -0.00        0.00\n",
      "        0.00        0.00        0.00        0.00        0.00        0.00\n",
      "   396000.00   396000.00   396000.00   396000.00   396000.00   396000.00\n",
      "        2.00        4.00       12.00       14.00       24.00       25.00\n",
      "\n",
      " Columns 7 and 8:\n",
      "\n",
      "        2.23        2.92\n",
      "        0.00        0.00\n",
      "        0.00        0.01\n",
      "     5153.61     5153.63\n",
      "        2.94        0.82\n",
      "        0.97        0.98\n",
      "       -0.99       -0.73\n",
      "       -0.00       -0.00\n",
      "        0.00        0.00\n",
      "       -0.00        0.00\n",
      "        0.00        0.00\n",
      "      198.94      353.72\n",
      "      -22.81        7.91\n",
      "        0.00        0.00\n",
      "        0.00        0.00\n",
      "   396000.00   395984.00\n",
      "        0.00        0.00\n",
      "        0.00        0.00\n",
      "        0.00        0.00\n",
      "   396000.00   395984.00\n",
      "       29.00       31.00\n",
      "\n"
     ]
    }
   ],
   "source": [
    "% Datensatz (nicht ändern)\n",
    "DatensatzA = {'./RINEXDateien/114255.obs','./RINEXDateien/114255.nav'};\n",
    "\n",
    "% Einlesen der Daten\n",
    "Satellitendaten = einlesen_Satellitendaten(DatensatzA);\n",
    "waehle_Satelliten = 1:length(Satellitendaten(1).Satelliten);\n",
    "[Satelliten,Satellitenauswahl,Wochen,tE,tS,Signalstaerken,Ephemeriden] = show_data(Satellitendaten,waehle_Satelliten);\n",
    "[delta_t_MU,SK_MU,dS_MU,SP_MU,delta_tE_MU,GK_MU,VGK_MU] = analyse_Satellitendaten_AB3(tE,tS,Ephemeriden,Signalstaerken);"
   ]
  },
  {
   "cell_type": "markdown",
   "metadata": {},
   "source": [
    "## Berechnung der Satellitenkoordinaten und Pseudoentfernungen\n",
    "Führe jetzt die Schritte 1 und 2 für **alle** Satelliten **im verbessertten Modell** (s. AB 2) durch.\n",
    "\n",
    "*Ersetzte im folgenden Code alle `NaN` so, dass der entstehende Code die Satellitenkoordinaten und die Pseudoentfernungen für alle Satelliten im verbesserten Modell berechnet. Die Kommentare helfen dir dabei. Falls du Fehler machst, wird dir dies mitgeteilt.*"
   ]
  },
  {
   "cell_type": "code",
   "execution_count": 9,
   "metadata": {},
   "outputs": [
    {
     "name": "stdout",
     "output_type": "stream",
     "text": [
      "delta_t =\n",
      "\n",
      " Columns 1 through 5:\n",
      "\n",
      "   0.000442313   0.000275547   0.000145453   0.000219220  -0.000010195\n",
      "\n",
      " Columns 6 through 8:\n",
      "\n",
      "   0.000123824   0.000454550   0.000321018\n",
      "\n",
      "SK =\n",
      "\n",
      " Columns 1 through 4:\n",
      "\n",
      "    8687804.78500   -3482859.38057   11174291.68425   17430150.77489\n",
      "   20463717.46741   16258573.61918   13291624.75871  -15018873.90461\n",
      "   15116870.23442   20371183.54840   20112589.00745   13340277.05672\n",
      "\n",
      " Columns 5 through 8:\n",
      "\n",
      "   21698513.42202   15165911.34517   25444854.24948    2681457.50037\n",
      "   15250683.69608   -2138913.29176   -3988079.59925  -16123180.03263\n",
      "    1804143.16580   21630636.98743    6435070.90402   21040592.01661\n",
      "\n",
      "dS =\n",
      "\n",
      " Columns 1 through 4:\n",
      "\n",
      "   22850211.10722   23248064.25788   21043660.38900   22010665.46146\n",
      "\n",
      " Columns 5 through 8:\n",
      "\n",
      "   23169019.69248   20140571.55528   21817330.34597   23032508.15727\n",
      "\n"
     ]
    }
   ],
   "source": [
    "% Berechnung des Satellitenuhrfehlers\n",
    "delta_t = berechne_Satellitenuhrfehler(tS,Ephemeriden);% Ersetze NaN durch einen geeigneten Funktionsaufruf\n",
    "\n",
    "% Berechnung der Satellitenkoordinaten\n",
    "SK = berechne_Satellitenkoordinaten(tS-delta_t,Ephemeriden);% Ersetze NaN durch einen geeigneten Funktionsaufruf\n",
    "\n",
    "% Berechnung der Pseudoentfernungen\n",
    "c = 299792458;% Ersetze NaN dur die Ausbreitungsgeschwindigkeit in m/s\n",
    "dS = (tE-(tS-delta_t)) * c;% Ersetze NaN durch einen Term, welcher die Pseudoentfernungen berechnet\n",
    "\n",
    "% Prüfen der Ergebnisse (ab hier nichts ändern)\n",
    "pruefe_Satellitenuhrfehler(delta_t,delta_t_MU);\n",
    "pruefe_Satellitenkoordinaten(SK,SK_MU); \n",
    "pruefe_PseudoentfernungenAB2(dS, dS_MU);"
   ]
  },
  {
   "cell_type": "markdown",
   "metadata": {},
   "source": [
    "## Gewichtung der Gleichungen\n",
    "Wenn du dir oben die Variable `Signalstaerken` ansiehst, bemerkst du, dass nicht alle Signale mit der selben Stärke empfangen worden sind. Als einfaches Modell für die Atmosphärenkorrektur wollen wir den Signalen mit großer Signalstärke eine höhere Gewichtung bei der Ausgleichsrechnung geben als den Signalen mit kleiner Stärke. Die Idee dahinter ist, dass sich Satelliten mit größerer Signalstärke näher am Empfänger befinden. Ihre Signale legen demnach einen kürzeren Weg in der Atmosphäre zurück, sodass deren tatsächliche Geschwindigkeit weniger von der von uns verwendeten Lichtgeschwindigkeit abweicht.\n",
    "\n",
    "Jede Gleichung im Gleichungssystem von Schritt 3 soll daher eine **Gewichtung proportional zur Signalstärke** erhalten. Diese Gewichtung soll als Faktor bei der Summenbildung berücksichtigt werden. Wenn z.B. das Gleichungssystem aus den Gleichungen $f_1(x)=0$, $f_2(x)=0$ und $f_3(x)=0$ besteht und die die positiven Zahlen $g_1$, $g_2$ und $g_3$ die zugehörigen Gewichtungen sind, soll der Wert für $x$ bestimmt werden für den die gewichtete Summe $$g_1 \\cdot f_1(x)^2+g_2 \\cdot f_2(x)^2 + g_3 \\cdot f_3(x)^2$$ \n",
    "minimal ist.\n",
    "\t\t\n",
    "Außerdem soll das Gleichungssystem diesmal so formuliert werden, dass es für eine beliebige Anzahl ($\\geq 4$) von Satelliten **ohne Veränderungen** benutzt werden kann. Verwende dazu die **Vektorschreibweise** in Octave.\n",
    "\n",
    "*Ersetze im folgenden Code `NaN` durch ein Gleichungssystem, das unter Verwendung aller Satellitendaten, die kartesichen Koordinaten des Empfängers und den Fehler in der Empfängerzeit berechnet. Die Gewichtung der jeweiligen Gleichungen soll proportional zu zugehörigen Signalstärtke sein. Außerdem soll das System für eine beliebige Anzahl von Satelliten funktionieren. Drücke danach auf den \"Run\" Button. Falls du alles richtig gemacht hast, bekommst du die Lösung angezeigt.*\n",
    "\t"
   ]
  },
  {
   "cell_type": "code",
   "execution_count": 18,
   "metadata": {},
   "outputs": [
    {
     "name": "stdout",
     "output_type": "stream",
     "text": [
      "xE =  4018639.06604\n",
      "yE =  427823.84102\n",
      "zE =  4918199.34587\n",
      "delta_tE = -0.00037268\n"
     ]
    }
   ],
   "source": [
    "% Aufstellen des Gleichungssystems\n",
    "Gleichungssystem = @(xE,yE,zE,delta_dS) (sqrt((xE-SK(1,:)).^2+(yE-SK(2,:)).^2+(zE-SK(3,:)).^2)-(dS-delta_dS)).*sqrt(Signalstaerken);% Ersetze NaN durch ein (gewichtetes) Gleichungssystem in Vektorschreibweise zur Berechnung der Empfängerkoordinaten, welches den Fehler in der Empfangszeit berücksichtigt\n",
    "        \n",
    "% Definiere Funktion und Startpunkt \n",
    "Funktion = @(X) Gleichungssystem(X(1),X(2),X(3),X(4));\n",
    "SP = trilaterate(SK(:,1),SK(:,2),SK(:,3),dS(1),dS(2),dS(3));\n",
    "SP = [SP; 0];\n",
    "\n",
    "% Berechnen einer Loesung in der Naehe des Startpunktes\n",
    "pkg load optim\n",
    "[X,fval,info,iterations] = lsqnonlin(Funktion,SP);\n",
    "\n",
    "% Speichern und Ausgeben der berechneten Loesung\n",
    "xE = X(1);\n",
    "yE = X(2);\n",
    "zE = X(3);\n",
    "delta_tE = X(4)/c;\n",
    "pruefe_EmpfaengerkoordinatenAB2(xE,yE,zE,delta_tE,SP_MU,delta_tE_MU);"
   ]
  },
  {
   "cell_type": "markdown",
   "metadata": {},
   "source": [
    "## Berechnung der geografischen Koordinaten\n",
    "Berechne nun die geografischen Koordinaten im Ellipsenmodell. Verwende dazu wieder den **Referenzellipsoiden WGS 84**.\n",
    "\n",
    "*Ersetze im Code alle `NaN` so, dass die geografischen Koordinaten der gefundenen Position im Ellipsenmodell berechnet werden. Die Kommentare helfen dir dabei. Drücke anschließend auf den \"Run\" Button. Falls du alles richtig gemacht hast, siehst du das Ergebnis.*"
   ]
  },
  {
   "cell_type": "code",
   "execution_count": 19,
   "metadata": {},
   "outputs": [
    {
     "name": "stdout",
     "output_type": "stream",
     "text": [
      "h =  278.98\n",
      "phi =  50.778\n",
      "lambda =  6.0768\n"
     ]
    }
   ],
   "source": [
    "% Berechnung der geographischen Koordinaten im Kugelmodell\n",
    "h_0 = sqrt(xE^2+yE^2+zE^2)-6378137.0;% Ersetze NaN durch eine Formal, mit der sich die Höhe h_0 im Kugelmodell berechnen lässt\n",
    "phi_0 = atan(zE/sqrt(xE^2+yE^2))*180/pi;% Ersetze NaN durch eine Formal, mit der sich die geografische Breite im Kugelmodell berechnen lässt\n",
    "lambda_0 = atan2(yE,xE)*180/pi;% Ersetze NaN durch eine Formal, mit der sich die geografische Länge im Kugelmodell berechnen lässt\n",
    "\n",
    "% Berechnung der geografischen Koordinaten im Ellipsenmodell\n",
    "a = 6378137;% Ersetze NaN durch die große Halbachse von WGS 84 in Metern\n",
    "b = 6356752.3142;% Ersetze NaN durch die kleine Halbachse von WGS 84 in Metern\n",
    "epsilon = sqrt(a^2-b^2)/a;% Ersetze NaN durch einen Term in a und b, der die numerische Exzentrizität berechnet\n",
    "Gleichungen = @(h,phi,lambda) [(a/sqrt(1-epsilon^2*(sind(phi)^2))+h)*cosd(phi)*cosd(lambda)-xE\n",
    "                               (a/sqrt(1-epsilon^2*(sind(phi)^2))+h)*cosd(phi)*sind(lambda)-yE\n",
    "                               (a/sqrt(1-epsilon^2*(sind(phi)^2))*(1-epsilon^2)+h)*sind(phi)-zE];% Ersetze NaN durch ein Gleichungssystem mit drei Gleichungen in den Unbekannten h, phi und lambda. Die Lösung dieses Systems sollen die geografischen Koordinaten im \"Ellipsenmodell\" sein.\n",
    "\n",
    "% Lösen des Gleichungssystem (ab hier nichts mehr ändern)\n",
    "Funktion2 = @(X) Gleichungen(X(1),X(2),X(3));\n",
    "Startpunkt2 = [h_0 phi_0 lambda_0];\n",
    "X = fsolve(Funktion2, Startpunkt2);\n",
    "h = X(1);\n",
    "phi = X(2);\n",
    "lambda = X(3);\n",
    "pruefe_geoKoordinatenEllipse(h,phi,lambda,VGK_MU);"
   ]
  },
  {
   "cell_type": "markdown",
   "metadata": {},
   "source": [
    "## Position auf Karte anzeigen\n",
    "Jetz wollen wir uns das Ergebnis auf der Karte ansehen. Ob das Verwenden aller Satelliten zu einer signifikanten Verbesserung geführt hat?\n",
    "\n",
    "*Führe den folgenden Code aus. Daraufhin bekommst du eine URL angezeigt, die du anklicken kannst, um Google Maps mit den berechneten Koordinaten zu öffnen. Sollte der Link nicht funktionieren, kopiere die URL in deinen Web Browser.*"
   ]
  },
  {
   "cell_type": "code",
   "execution_count": 20,
   "metadata": {},
   "outputs": [
    {
     "name": "stdout",
     "output_type": "stream",
     "text": [
      "url = https://www.google.de/maps/place/50.778254,6.076813/@50.5,6.8,7z\n"
     ]
    }
   ],
   "source": [
    "% Auswaehlen des Kartenausschnitts\n",
    "Kartenausschnitt_manuell = true;\n",
    "Zentrum = '50.5,6.8';\n",
    "Zoom = '7';\n",
    "\n",
    "% Erzeugen der URL\n",
    "url = sprintf('https://www.google.de/maps/place/%f,%f',phi,lambda);\n",
    "if Kartenausschnitt_manuell\n",
    "    url = [url '/@' Zentrum ',' Zoom 'z'];\n",
    "end\n",
    "\n",
    "% Anzeigen der URL im Browser\n",
    "display(url)"
   ]
  }
 ],
 "metadata": {
  "kernelspec": {
   "display_name": "Octave",
   "language": "octave",
   "name": "octave"
  },
  "language_info": {
   "file_extension": ".m",
   "help_links": [
    {
     "text": "GNU Octave",
     "url": "https://www.gnu.org/software/octave/support.html"
    },
    {
     "text": "Octave Kernel",
     "url": "https://github.com/Calysto/octave_kernel"
    },
    {
     "text": "MetaKernel Magics",
     "url": "https://github.com/calysto/metakernel/blob/master/metakernel/magics/README.md"
    }
   ],
   "mimetype": "text/x-octave",
   "name": "octave",
   "version": "4.4.0"
  }
 },
 "nbformat": 4,
 "nbformat_minor": 2
}
