{
 "cells": [
  {
   "cell_type": "markdown",
   "metadata": {},
   "source": [
    "# GPS - Aufgabenblatt 2: Verbesserung des Modells\n",
    "## Einleitung\n",
    "Nach Bearbeitung aller vier Schritte hast du den vermeintlichen Standort des Empfängers bestimmt und auf der Karte markiert. Die berechnete Position ist vom tatsächlichen Messort jedoch noch deutlich entfernt. Das liegt nicht daran, dass du einen Fehler gemacht hast, sondern daran, dass unser Modell noch nicht hinreichend genau ist. Wir müssen das Modell also verbessern. Ziel dieses Arbeitsblattes ist es, das Modell so zu ergänzen, dass die Ortung auf wenige Meter genau ist. Dazu werden wir im Folgenden vier Modellverbesserungen vornehmen. \n",
    "\n",
    "*Damit dieses Arbeitsblatt funktioniert, musst du als erstes den folgenden Code ausführen. Klicke dazu auf das Code Feld und drücke auf \"Run\" (oder drücke Shift + Enter).*"
   ]
  },
  {
   "cell_type": "code",
   "execution_count": 3,
   "metadata": {},
   "outputs": [],
   "source": [
    "% Hier nichts ändern\n",
    "addpath(\"./code/OctaveFunctions\")"
   ]
  },
  {
   "cell_type": "markdown",
   "metadata": {},
   "source": [
    "## Einlesen der Satellitendaten\n",
    "Wie auf dem ersten Blatt, müssen zunächst die Satellitendaten eigelesen werden. Du hast die gleichen Satellitendatensätze zur Auswahl wie zuvor. Wähle den **gleichen Datensatz wie auf Arbeitsblatt 1**, um dein bisheriges Ergebnis zu verbessern und die Position des Empfängers genauer zu orten.  \n",
    "\n",
    "*Ersetze im folgenden Code `NaN` durch den Namen des Satellitendatensatzes mit dem du bereits Aufgabenblatt 1 bearbeitet hast. Klicke danach auf den \"Run\" Button (oder drücke Shift + Enter). Die Daten werden daraufhin eingelesen. Das kann einige Zeit dauern. Anschließend werden dir die Ergebnisse angezeigt.* "
   ]
  },
  {
   "cell_type": "code",
   "execution_count": 27,
   "metadata": {},
   "outputs": [
    {
     "name": "stdout",
     "output_type": "stream",
     "text": [
      "Lese Rinex Datei ... : ./RINEXDateien/114255.obs\n",
      "Lese Rinex Datei ... : ./RINEXDateien/114255.nav\n",
      "Satelliten =\n",
      "\n",
      "  1  2  3  4  5  6  7  8\n",
      "\n",
      "Satellitenauswahl =\n",
      "\n",
      "  1  2  3  4\n",
      "\n",
      "Wochen =\n",
      "\n",
      "   1749.00   1749.00   1749.00   1749.00\n",
      "\n",
      "tE =\n",
      "\n",
      "   389495.00   389495.00   389495.00   389495.00\n",
      "\n",
      "tS =\n",
      "\n",
      "   389494.92   389494.92   389494.93   389494.93\n",
      "\n",
      "Signalstaerken =\n",
      "\n",
      "   31.00   32.00   29.00   32.00\n",
      "\n",
      "Ephemeriden =\n",
      "\n",
      "       -1.98        1.24        2.62       -0.80\n",
      "        0.00        0.00        0.00        0.00\n",
      "        0.01        0.01        0.00        0.01\n",
      "     5153.68     5153.57     5153.54     5153.77\n",
      "       -2.37       -2.35        1.88       -0.18\n",
      "        0.94        0.94        0.98        0.97\n",
      "       -2.58        0.99        0.32       -2.03\n",
      "       -0.00       -0.00       -0.00       -0.00\n",
      "        0.00       -0.00       -0.00        0.00\n",
      "       -0.00       -0.00       -0.00        0.00\n",
      "        0.00        0.00        0.00        0.00\n",
      "      249.28      244.75      231.34      238.59\n",
      "       -9.59       -8.62     -122.69      108.25\n",
      "        0.00       -0.00       -0.00       -0.00\n",
      "       -0.00       -0.00       -0.00        0.00\n",
      "   396000.00   396000.00   396000.00   396000.00\n",
      "        0.00        0.00        0.00        0.00\n",
      "        0.00        0.00        0.00       -0.00\n",
      "        0.00        0.00        0.00        0.00\n",
      "   396000.00   396000.00   396000.00   396000.00\n",
      "        2.00        4.00       12.00       14.00\n",
      "\n"
     ]
    }
   ],
   "source": [
    "% Diese drei Datensätze stehen zur Auswahl (nicht ändern)\n",
    "DatensatzA = {'./RINEXDateien/114255.obs','./RINEXDateien/114255.nav'};\n",
    "DatensatzK1 = {'./RINEXDateien/090405.obs','./RINEXDateien/090405.nav'};\n",
    "DatensatzK2= {'./RINEXDateien/135700.obs','./RINEXDateien/135700.nav'};  \n",
    "\n",
    "% Einlesen der Daten\n",
    "Satellitendaten = einlesen_Satellitendaten(DatensatzA);% Ersetze NaN durch den Datensatz (DatensatzA, DatensatzK1 oder DatensatzK2), den du bereits bei der Bearbeitung von Blatt 1 verwendet hast \n",
    "waehle_Satelliten = [1 2 3 4]; % Erstmal nichts ändern, sondern Modellverbesserungen A bis C erfolgreich durchgeführen. Dann Anweisungen in Modellverbesserung D beachten.\n",
    "\n",
    "% Ausgabe der Daten (hier nichts ändern)\n",
    "[Satelliten,Satellitenauswahl,Wochen,tE,tS,Signalstaerken,Ephemeriden] = show_data(Satellitendaten,waehle_Satelliten);\n",
    "[delta_t_MU,SK_MU,dS_MU,SP_MU,delta_tE_MU,GK_MU,VGK_MU] = analyse_Satellitendaten_Modellverbesserung(tE,tS,Ephemeriden);"
   ]
  },
  {
   "cell_type": "markdown",
   "metadata": {},
   "source": [
    "Wie du siehst benutzen wir zur Modellverbesserung einen zusätzlichen Satelliten, also insgesamt vier. Warum das so ist, wirst du im Verlaufe des Blattes feststellen. "
   ]
  },
  {
   "cell_type": "markdown",
   "metadata": {},
   "source": [
    "## Modellverbesserung A : Berücksichtigung des Fehlers der Satellitenuhren bei der Berechnung der Satellitenkoordinaten und der Pseudoentfernungen\n",
    "Die Atomuhren in den Satelliten sind zwar die genausten Uhren der Welt, aber sie befinden sich nicht in Ruhe auf der Erde sondern sie bewegen sich mit den Satelliten in einem geringen Schwerefeld hoch über der Erde. Nach der Relativitätstheorie vergeht deshalb die Zeit in den Satelliten schneller als die Zeit auf der Erde. Für eine genaue Positionsbestimmung ist es daher notwendig, diese Zeitfehler zu berücksichtigen. Wenn $\\delta_{t}$ (delta t) den Zeitfehler zur gemessenen (falschen) Zeit $t$ beschreibt und $t_0$ die unbekannte tatsächliche Zeit ist, so gilt mit hinreichender Genauigkeit der Zusammenhang\n",
    "$$ t = t_0 + \\delta_{t}.$$\n",
    "Berücksichtige den Zeitfehler der Satelliten bei der Berechnung der Satellitenkoordinaten. Dazu steht dir die Funktion `berechne_Satellitenuhrfehler(t,Ephemeriden)` zur Verfügung. Diese bestimmt den Zeitfehler der Satelliten zum Zeitpunkt $t$. $t$ ist wieder ein Zeilenvektor der Form $[t_1 \\ t_2 \\ t_3 \\ t_4]$ und $t_i$ (i = 1, 2, 3, 4) legt die Zeit fest, zu welcher der Fehler der Uhr des i-ten Satelliten bestimmt wird.\n",
    "\n",
    "*Ersetze im folgendne Code `NaN` durch einen geeigneten Zeit-Vektor, sodass du die Fehler der Uhren zur relevanten Zeit erhälst. Drücke danach auf den \"Run\" Button. Wenn du alles richtig gemacht hast, bekommst du die gesuchten Zeitfehler angezeigt.*\n",
    "\n",
    "**Falls du Hilfe benötigst, kannst du dir hier [Hilfekarte 3](./GPSHilfekarte3.ipynb) ansehen.**"
   ]
  },
  {
   "cell_type": "code",
   "execution_count": 28,
   "metadata": {},
   "outputs": [
    {
     "name": "stdout",
     "output_type": "stream",
     "text": [
      "delta_t =\n",
      "\n",
      "   0.00044231   0.00027555   0.00014545   0.00021922\n",
      "\n"
     ]
    }
   ],
   "source": [
    "% Berechnung des Satellitenuhrfehlers\n",
    "delta_t = berechne_Satellitenuhrfehler(tS,Ephemeriden);% Ersetze NaN durch einen geeigneten Zeit-Vektor\n",
    "% Prüfen der Lösung (hier nichts ändern)\n",
    "pruefe_Satellitenuhrfehler(delta_t,delta_t_MU); "
   ]
  },
  {
   "cell_type": "markdown",
   "metadata": {},
   "source": [
    "Oben siehst du die Fehler der Satellitenuhren. \n",
    "### Schritt 1: Berechnung der Satellitenkoordinaten\n",
    "Berechne unter deren Berücksichtigung nun mit der bereits bekannten Funktion `berechne_Satellitenkoordinaten` die Koordinaten der Satelliten.\n",
    "\n",
    "*Ersetze im folgendne Code `NaN` durch einen geeigneten Zeit-Vektor, sodass du die Koordinaten der vier Satelliten zur  relevanten Zeit erhälst. Drücke danach auf den \"Run\" Button. Wenn du alles richtig gemacht hast, bekommst du die gesuchten Koordinaten angezeigt.*"
   ]
  },
  {
   "cell_type": "code",
   "execution_count": 29,
   "metadata": {},
   "outputs": [
    {
     "name": "stdout",
     "output_type": "stream",
     "text": [
      "SK =\n",
      "\n",
      "    8687804.78500   -3482859.38057   11174291.68425   17430150.77489\n",
      "   20463717.46741   16258573.61918   13291624.75871  -15018873.90461\n",
      "   15116870.23442   20371183.54840   20112589.00745   13340277.05672\n",
      "\n"
     ]
    }
   ],
   "source": [
    "% Berechnung der Satellitenkoordinaten\n",
    "SK = berechne_Satellitenkoordinaten(tS-delta_t,Ephemeriden);% Ersetze NaN durch einen geeigneten Zeit-Vektor\n",
    "% Prüfen der Lösung (hier nichts ändern)\n",
    "pruefe_Satellitenkoordinaten(SK,SK_MU); "
   ]
  },
  {
   "cell_type": "markdown",
   "metadata": {},
   "source": [
    "Das Ausgabeformat der Satellitenkoordinaten ist das Gleiche wie auf Blatt 1. Da es einen Satelliten zusätzlich gibt, gibt es auch eine Spalte mehr. \n",
    "### Schritt 2: Berechnung der Pseudoentfernungen\n",
    "Die Pseudoentfernungen müssen unter Berücksichtigung des Satellitenuhrfehlers ebenfalls neu berechnet werden.\n",
    "\n",
    "*Ersetze im folgenden Code `NaN` durch einen Term in $tS$, $\\delta_t$, $tE$ und $c$, welcher die gesuchten Pseudoentfernungen berechnet. Drücke anschließend auf den \"Run\" Button. Wenn du alles richtig gemacht hast, bekommst du die Pseudoentfernungen angezeigt.*"
   ]
  },
  {
   "cell_type": "code",
   "execution_count": 30,
   "metadata": {},
   "outputs": [
    {
     "name": "stdout",
     "output_type": "stream",
     "text": [
      "dS =\n",
      "\n",
      "   22850211.10722   23248064.25788   21043660.38900   22010665.46146\n",
      "\n"
     ]
    }
   ],
   "source": [
    "% Aufstellen der Berechnungsformel\n",
    "c = 299792458;% Lichtgeschwindigkeit in m/s\n",
    "dS = (tE-(tS-delta_t)) * c;% Ersetze NaN durch einen Term in tS, delta_t, tE und c, welcher die Pseudoentfernungen berechnet\n",
    "\n",
    "% Prüfen der Pseudoentfernungen (hier nichts ändern)\n",
    "pruefe_PseudoentfernungenAB2(dS, dS_MU);"
   ]
  },
  {
   "cell_type": "markdown",
   "metadata": {},
   "source": [
    "Auch das Ausgabeformat der Pseudoentfernungen ist das Gleiche wie auf Blatt 1. Der vierte Eintrag gehört zum neu hinzugekommenen Satelliten."
   ]
  },
  {
   "cell_type": "markdown",
   "metadata": {},
   "source": [
    "## Modellverbesserung B: Berücksichtigung des Fehlers der Empfängeruhr bei der Berechnung der Empfängerkoordinaten\n",
    "Die Empfänger (beispielsweise Handys oder Notebooks) verfügen meistens nicht über eine präzise Atomuhr, sodass die Zeitmessung im Empfänger nicht sehr genau ist. Der unbekannte Zeitfehler der Empfängeruhr $\\delta_{tE}$ (delta tE) muss bei der Berechnung der Empfängerkoordinaten berücksichtigt werden. Bezeichnet $tE_0$ die wahren Empfangszeit und $tE$ die (falsche) gemessene Empfangszeit, so gilt\n",
    "$$tE = tE_0 + \\delta_{tE}.$$\n",
    "Beachte, dass auch die oben von dir berechneten Pseudoentfernungen $dS$ nicht mit den tatsächlichen Entfernungen der Satelliten zum Empfänger übereinstimmen. Denn du hast für deine Berechnung die unkorrigierten Empfangszeiten benutzt.\n",
    "### Schritt 3: Berechnung der Empfängerkoordinaten\n",
    "Überlege dir, wie man das aus Schritt 3 von Arbeitsblatt 1 bekannte Gleichungssystem zur Berechnung der Empfängerkoordinaten ändern muss, um den Fehler in der Empfangszeit zu berücksichtigen.\n",
    "\n",
    "*Ersetze im folgenden Code `NaN` durch ein Gleichungssystem zur Bestimmung der Empfängerkoordinaten. Du kannst und solltest das Gleichungssystem von Blatt 1 als Vorlage benutzen und Schritt für Schritt erweitern. Drücke anschließend auf den \"Run\" Button. Wenn du alles richtig gemacht hast, bekommst du die Koordinaten des Empfängers und den Fehler der Empfängeruhr ausgegeben.*\n",
    "                           \n",
    "**Falls du Hilfe benötigst, kannst du dir hier [Hilfekarte 4](./GPSHilfekarte4.ipynb) ansehen.**"
   ]
  },
  {
   "cell_type": "code",
   "execution_count": 31,
   "metadata": {},
   "outputs": [
    {
     "name": "stdout",
     "output_type": "stream",
     "text": [
      "xE =  4018636.58351\n",
      "yE =  427827.25353\n",
      "zE =  4918152.60048\n",
      "delta_tE = -0.00037277\n"
     ]
    }
   ],
   "source": [
    "% Aufstellen des Gleichungssystems\n",
    "Gleichungssystem = @(xE,yE,zE,delta_dS) [sqrt((xE-SK(1,1))^2+(yE-SK(2,1))^2+(zE-SK(3,1))^2)-(dS(1)-delta_dS)\n",
    "                                         sqrt((xE-SK(1,2))^2+(yE-SK(2,2))^2+(zE-SK(3,2))^2)-(dS(2)-delta_dS)\n",
    "                                         sqrt((xE-SK(1,3))^2+(yE-SK(2,3))^2+(zE-SK(3,3))^2)-(dS(3)-delta_dS)\n",
    "                                         sqrt((xE-SK(1,4))^2+(yE-SK(2,4))^2+(zE-SK(3,4))^2)-(dS(4)-delta_dS)];% Ersetze NaN durch ein Gleichungssystem zur Berechnung der Empfängerkoordinaten, welches den Fehler in der Empfangszeit berücksichtigt\n",
    "        \n",
    "% Definiere Funktion und Startpunkt für fsolve (ab hier nichts mehr ändern)\n",
    "Funktion = @(X) Gleichungssystem(X(1),X(2),X(3),X(4));\n",
    "\n",
    "% Startpunkt berechnen\n",
    "SP = trilaterate(SK(:,1),SK(:,2),SK(:,3),dS(1),dS(2),dS(3));\n",
    "SP = [SP; 0];\n",
    "\n",
    "% Berechnen einer Loesung in der Naehe des Startpunktes\n",
    "options = optimset('TolX', 1e-10,'TolFun',1e-10,'MaxIter', 1000);\n",
    "[X,fval,info,iterations] = fsolve(Funktion,SP,options);\n",
    "\n",
    "% Speichern und Ausgeben der berechneten Loesung\n",
    "xE = X(1);\n",
    "yE = X(2);\n",
    "zE = X(3);\n",
    "delta_tE = X(4)/c;\n",
    "pruefe_EmpfaengerkoordinatenAB2(xE,yE,zE,delta_tE,SP_MU,delta_tE_MU);"
   ]
  },
  {
   "attachments": {
    "earthEllipsoid.png": {
     "image/png": "[encoded data removed]"
    }
   },
   "cell_type": "markdown",
   "metadata": {},
   "source": [
    "## Modellverbesserung C: Berücksichtigung der Erdform bei der Bestimmung der geografischen Koordinaten\n",
    "Die Erde hat nicht genau die Form einer Kugel, denn durch die Erdrotation ist sie an den Polen etwas zusammengedrückt und hat dadurch eher die Form einer Mandarine. Dieses muss man bei der Berechnung der geographischen Koordinaten berücksichtigen, wenn man genauere Breiten- und Längengrade erhalten will.\n",
    "![earthEllipsoid.png](attachment:earthEllipsoid.png)\n",
    "### Schritt 4: Umrechnen in geographische Höhe, Breite und Länge\n",
    "Deine Aufgabe ist es, im Folgenden die tatsächliche Form der Erde bei der Berechnung der geographischen Koordinaten zu berücksichtigen. Dazu gehen wir in zwei Schritten vor:\n",
    "- **a)** Wie auf Arbeitsblatt 1 behandeln wir die Erde als Kugel und berechnen die geografischen Koordinaten $h_0$, $\\phi_0$ und $\\lambda_0$.\n",
    "- **b)** Wir behanden die Erde als Ellipsoid und stellen für die gesuchten Größen $h$, $\\phi$ und $\\lambda$ ein Gleichungssystem auf, das wir iterativ lösen lassen. Als Startpunkt der Iteration dient der in Schritt a) berechnete Punkt $[h_0 \\ \\phi_0 \\ \\lambda_0].$\n",
    "\n",
    "#### Schritt a)\n",
    "Berechne die geografischen Koordinaten genau wie in Schritt 4 auf Arbeitsblatt 1.\n",
    "\n",
    "*Ersetze im folgenden Code die `NaNs` durch Formeln in $x_E$, $y_E$ und $z_E$, mit denen sich die geografischen Koordinaten im \"Kugelmodell\" berechnen lassen. Drücke danach auf den \"Run\" Button. Wenn du alles richtig gemacht hast, bekommst du das Ergebnis angezeigt.*\n",
    "\n",
    "**Hinweis: Wie auf Blatt 1 müssen die beiden Winkel $\\phi$ und $\\lambda$ in der Einheit Grad (und nicht im Bogenmaß) bestimmt werden.** "
   ]
  },
  {
   "cell_type": "code",
   "execution_count": 32,
   "metadata": {},
   "outputs": [
    {
     "name": "stdout",
     "output_type": "stream",
     "text": [
      "h_0 = -12549.74109\n",
      "phi_0 =  50.589\n",
      "lambda_0 =  6.0769\n"
     ]
    }
   ],
   "source": [
    "% Berechnung der geographischen Koordinaten im Kugelmodell\n",
    "h_0 = sqrt(xE^2+yE^2+zE^2)-6378137.0;% Ersetze NaN durch eine Formal, mit der sich die Höhe h_0 im Kugelmodell berechnen lässt\n",
    "phi_0 = atan(zE/sqrt(xE^2+yE^2))*180/pi;% Ersetze NaN durch eine Formal, mit der sich die geografische Breite im Kugelmodell berechnen lässt\n",
    "lambda_0 = atan2(yE,xE)*180/pi;% Ersetze NaN durch eine Formal, mit der sich die geografische Länge im Kugelmodell berechnen lässt\n",
    "\n",
    "% Ueberpruefung und Ausgabe der geographischen Koordinaten\n",
    "pruefe_geoKoordinatenAB2(h_0,phi_0,lambda_0,GK_MU);"
   ]
  },
  {
   "cell_type": "markdown",
   "metadata": {},
   "source": [
    "#### Schritt b)\n",
    "Stelle nun im \"Ellipsenmodell\" ein Gleichungssystem für die drei Unbekannten $h$, $\\phi$ und $\\lambda$ auf. Verwende dazu den **Referenzellipsoiden WGS 84**. Suche im Internet nach Gleichungen, die eine Umrechnung von geodätischen Koordinaten ($h$, $\\phi$, $\\lambda$) in das ECEF-System ($xE$, $yE$, $zE$) ermöglichen. Diese Gleichungen kannst du jeweils nach $0$ auflösen, um die Terme für dein Gleichungssystem zu erhalten. Das Gleichungssystem wird dann iterativ gelöst, wobei der in Schritt a) gefundene Punkt ($h_0$, $\\phi_0$, $\\lambda_0$) als Startpunkt dient. \n",
    "\n",
    "*Ersetze im folgenden Code die `NaN` so, dass die geografischen Koordinaten im Ellipsenmodell mit Referenzellipsoid WGS 84 berechnet werden. Die Kommentare hinter den `NaN` helfen dir dabei. Drücke danach auf den \"Run\" Button. Wenn du alles richtig gemacht hast, bekommst du die Koordinaten des Empfängers ausgegeben.*"
   ]
  },
  {
   "cell_type": "code",
   "execution_count": 33,
   "metadata": {},
   "outputs": [
    {
     "name": "stdout",
     "output_type": "stream",
     "text": [
      "h =  241.43\n",
      "phi =  50.778\n",
      "lambda =  6.0769\n"
     ]
    }
   ],
   "source": [
    "a = 6378137;% Ersetze NaN durch die große Halbachse von WGS 84 in Metern\n",
    "b = 6356752.3142;% Ersetze NaN durch die kleine Halbachse von WGS 84 in Metern\n",
    "epsilon = sqrt(a^2-b^2)/a;% Ersetze NaN durch einen Term in a und b, der die numerische Exzentrizität berechnet\n",
    "Gleichungen = @(h,phi,lambda) [(a/sqrt(1-epsilon^2*(sind(phi)^2))+h)*cosd(phi)*cosd(lambda)-xE\n",
    "                               (a/sqrt(1-epsilon^2*(sind(phi)^2))+h)*cosd(phi)*sind(lambda)-yE\n",
    "                               (a/sqrt(1-epsilon^2*(sind(phi)^2))*(1-epsilon^2)+h)*sind(phi)-zE];% Ersetze NaN durch ein Gleichungssystem mit drei Gleichungen in den Unbekannten h, phi und lambda. Die Lösung dieses Systems sollen die geografischen Koordinaten im \"Ellipsenmodell\" sein.\n",
    "\n",
    "% Lösen des Gleichungssystem (ab hier nichts mehr ändern)\n",
    "Funktion2 = @(X) Gleichungen(X(1),X(2),X(3));\n",
    "Startpunkt2 = [h_0 phi_0 lambda_0];\n",
    "X = fsolve(Funktion2, Startpunkt2);\n",
    "h = X(1);\n",
    "phi = X(2);\n",
    "lambda = X(3);\n",
    "pruefe_geoKoordinatenEllipse(h,phi,lambda,VGK_MU);"
   ]
  },
  {
   "cell_type": "markdown",
   "metadata": {},
   "source": [
    "## Empfängerposition auf Karte anzeigen\n",
    "Nun wollen wir uns die korrigierte Position des Empfängers auf der Karte ansehen. Vergleiche dieses Ergebnis mit dem des ungenaueren Modells aus Aufgabenblatt 1. Dann siehst du, welch großen Fortschritt die Erweiterung des Modells gebracht hat.\n",
    "\n",
    "*Führe den folgenden Code aus. Daraufhin bekommst du eine URL angezeigt, die du anklicken kannst, um Google Maps mit den berechneten Koordinaten zu öffnen. Sollte der Link nicht funktionieren, kopiere die URL in deinen Web Browser.*"
   ]
  },
  {
   "cell_type": "code",
   "execution_count": 34,
   "metadata": {},
   "outputs": [
    {
     "name": "stdout",
     "output_type": "stream",
     "text": [
      "url = https://www.google.de/maps/place/50.778003,6.076865/@50.5,6.8,8z\n"
     ]
    }
   ],
   "source": [
    "% Auswaehlen des Kartenausschnitts\n",
    "Kartenausschnitt_manuell = true;\n",
    "Zentrum = '50.5,6.8';\n",
    "Zoom = '8';\n",
    "\n",
    "% Erzeugen der URL\n",
    "url = sprintf('https://www.google.de/maps/place/%f,%f',phi,lambda);\n",
    "if Kartenausschnitt_manuell\n",
    "    url = [url '/@' Zentrum ',' Zoom 'z'];\n",
    "end\n",
    "\n",
    "% Anzeigen der URL im Browser\n",
    "display(url)"
   ]
  },
  {
   "cell_type": "markdown",
   "metadata": {},
   "source": [
    "## Modellverbesserung D: Verwendung aller Satelliten\n",
    "### Einfluss der ausgewählten Satelliten\n",
    "Das Ergebnis, welches du unter Verwendung von vier Satelliten erhalten hast ist schon ziemlich gut. Es hängt aber noch von der Auswahl der Satelliten ab. Wie kann man das sehen? Scrolle zurück zum Abschnitt \"Einlesen der Satellitendaten\". Im dortigen Codefeld findest du die Variable `waehle_Satellien`, die einem Zeilenvektor der Länge vier zugeordnet ist. Dieser Vektor enthält die Nummern der zur Positionsbestimmung verwendeten Satelliten. Wenn du diesen Vektor änderst, werden andere Satelliten zur Berechnung verwendet. Natürlich muss der neue Vektor ebenfalls 4-elementig sein und darf nur Nummern der zur Verfügung stehenden Satelliten enthalten. \n",
    "\n",
    "*Ändere im Abschnitt \"Einlesen der Satellitendaten\" die Auswahl der Satelliten und führe erneut eine komplette Positionsbestimmung (bis zur Markierung der Position auf der Karte) durch. Vergleiche die Resultate, die verschiedene Auswahlen liefern.*\n",
    "\n",
    "### Alle Satelliten verwenden\n",
    "Insebesonder wenn das Signal eines der verwendeten Satelliten schwach ist, kann es zu Ungenauigkeiten bei der Ortung kommen. Es stellt sich also die Frage, welche Satelliten man verwenden soll. Eine Idee ist, alle Satellitensignale zu verwenden. Dies werden wir im Folgenden tun.\n",
    "\n",
    "*Führe den folgenden Code aus, um die Daten aller verfügbaren Satelliten zu laden.*"
   ]
  },
  {
   "cell_type": "code",
   "execution_count": 42,
   "metadata": {},
   "outputs": [
    {
     "name": "stdout",
     "output_type": "stream",
     "text": [
      "Satelliten =\n",
      "\n",
      "  1  2  3  4  5  6  7  8\n",
      "\n",
      "Satellitenauswahl =\n",
      "\n",
      "  1  2  3  4  5  6  7  8\n",
      "\n",
      "Wochen =\n",
      "\n",
      "   1749.00   1749.00   1749.00   1749.00   1749.00   1749.00   1749.00   1749.00\n",
      "\n",
      "tE =\n",
      "\n",
      " Columns 1 through 6:\n",
      "\n",
      "   389495.00   389495.00   389495.00   389495.00   389495.00   389495.00\n",
      "\n",
      " Columns 7 and 8:\n",
      "\n",
      "   389495.00   389495.00\n",
      "\n",
      "tS =\n",
      "\n",
      " Columns 1 through 6:\n",
      "\n",
      "   389494.92   389494.92   389494.93   389494.93   389494.92   389494.93\n",
      "\n",
      " Columns 7 and 8:\n",
      "\n",
      "   389494.93   389494.92\n",
      "\n",
      "Signalstaerken =\n",
      "\n",
      "   31.00   32.00   29.00   32.00   28.00   47.00   26.00   44.00\n",
      "\n",
      "Ephemeriden =\n",
      "\n",
      " Columns 1 through 6:\n",
      "\n",
      "       -1.98        1.24        2.62       -0.80       -2.66        1.62\n",
      "        0.00        0.00        0.00        0.00        0.00        0.00\n",
      "        0.01        0.01        0.00        0.01        0.00        0.00\n",
      "     5153.68     5153.57     5153.54     5153.77     5153.67     5153.76\n",
      "       -2.37       -2.35        1.88       -0.18        0.79        1.84\n",
      "        0.94        0.94        0.98        0.97        0.96        0.97\n",
      "       -2.58        0.99        0.32       -2.03        0.39        0.74\n",
      "       -0.00       -0.00       -0.00       -0.00       -0.00       -0.00\n",
      "        0.00       -0.00       -0.00        0.00       -0.00       -0.00\n",
      "       -0.00       -0.00       -0.00        0.00        0.00       -0.00\n",
      "        0.00        0.00        0.00        0.00        0.00        0.00\n",
      "      249.28      244.75      231.34      238.59      349.75      236.38\n",
      "       -9.59       -8.62     -122.69      108.25       10.00     -118.25\n",
      "        0.00       -0.00       -0.00       -0.00       -0.00       -0.00\n",
      "       -0.00       -0.00       -0.00        0.00       -0.00        0.00\n",
      "   396000.00   396000.00   396000.00   396000.00   396000.00   396000.00\n",
      "        0.00        0.00        0.00        0.00       -0.00        0.00\n",
      "        0.00        0.00        0.00       -0.00       -0.00        0.00\n",
      "        0.00        0.00        0.00        0.00        0.00        0.00\n",
      "   396000.00   396000.00   396000.00   396000.00   396000.00   396000.00\n",
      "        2.00        4.00       12.00       14.00       24.00       25.00\n",
      "\n",
      " Columns 7 and 8:\n",
      "\n",
      "        2.23        2.92\n",
      "        0.00        0.00\n",
      "        0.00        0.01\n",
      "     5153.61     5153.63\n",
      "        2.94        0.82\n",
      "        0.97        0.98\n",
      "       -0.99       -0.73\n",
      "       -0.00       -0.00\n",
      "        0.00        0.00\n",
      "       -0.00        0.00\n",
      "        0.00        0.00\n",
      "      198.94      353.72\n",
      "      -22.81        7.91\n",
      "        0.00        0.00\n",
      "        0.00        0.00\n",
      "   396000.00   395984.00\n",
      "        0.00        0.00\n",
      "        0.00        0.00\n",
      "        0.00        0.00\n",
      "   396000.00   395984.00\n",
      "       29.00       31.00\n",
      "\n"
     ]
    }
   ],
   "source": [
    "% Ausgabe der Daten (hier nichts ändern)\n",
    "waehle_Satelliten = 1:length(Satellitendaten(1).Satelliten);\n",
    "[Satelliten,Satellitenauswahl,Wochen,tE,tS,Signalstaerken,Ephemeriden] = show_data(Satellitendaten,waehle_Satelliten);\n",
    "[delta_t_MU,SK_MU,dS_MU,SP_MU,delta_tE_MU,GK_MU,VGK_MU] = analyse_Satellitendaten_Modellverbesserung(tE,tS,Ephemeriden);"
   ]
  },
  {
   "cell_type": "markdown",
   "metadata": {},
   "source": [
    "Führe jetzt die Schritte 1 und 2 für alle Satelliten durch. Du kannst dich dabei am Code für vier Satelliten orientieren.\n",
    "\n",
    "*Ersetzte im folgenden Code alle `NaN` so, dass der entstehende Code die Satellitenkoordinaten und die Pseudoentfernungen für alle Satelliten im verbesserten Modell berechnet. Die Kommentare helfen dir dabei.*"
   ]
  },
  {
   "cell_type": "code",
   "execution_count": 43,
   "metadata": {},
   "outputs": [
    {
     "name": "stdout",
     "output_type": "stream",
     "text": [
      "delta_t =\n",
      "\n",
      "   0.00   0.00   0.00   0.00  -0.00   0.00   0.00   0.00\n",
      "\n",
      "SK =\n",
      "\n",
      " Columns 1 through 5:\n",
      "\n",
      "    8687804.78   -3482859.38   11174291.68   17430150.77   21698513.42\n",
      "   20463717.47   16258573.62   13291624.76  -15018873.90   15250683.70\n",
      "   15116870.23   20371183.55   20112589.01   13340277.06    1804143.17\n",
      "\n",
      " Columns 6 through 8:\n",
      "\n",
      "   15165911.35   25444854.25    2681457.50\n",
      "   -2138913.29   -3988079.60  -16123180.03\n",
      "   21630636.99    6435070.90   21040592.02\n",
      "\n",
      "dS =\n",
      "\n",
      " Columns 1 through 5:\n",
      "\n",
      "   22850211.11   23248064.26   21043660.39   22010665.46   23169019.69\n",
      "\n",
      " Columns 6 through 8:\n",
      "\n",
      "   20140571.56   21817330.35   23032508.16\n",
      "\n"
     ]
    }
   ],
   "source": [
    "% Berechnung des Satellitenuhrfehlers\n",
    "delta_t = berechne_Satellitenuhrfehler(tS,Ephemeriden)% Ersetze NaN durch einen geeigneten Funktionsaufruf\n",
    "\n",
    "% Berechnung der Satellitenkoordinaten\n",
    "SK = berechne_Satellitenkoordinaten(tS-delta_t,Ephemeriden)% Ersetze NaN durch einen geeigneten Funktionsaufruf\n",
    "\n",
    "% Berechnung der Pseudoentfernungen\n",
    "c = 299792458;% Ersetze NaN dur die Ausbreitungsgeschwindigkeit in m/s\n",
    "dS = (tE-(tS-delta_t)) * c% Ersetze NaN durch einen Term, welcher die Pseudoentfernungen berechnet\n",
    "\n"
   ]
  },
  {
   "cell_type": "markdown",
   "metadata": {},
   "source": [
    "In Schritt 3 liegt - mathematisch gesehen - nun eine neue Situation vor. Denn sobald mehr als vier Signale zu Verfügung stehen, erhält man ein **überbestimmtes Gleichungssystem**, dass sich in der Regel nicht mehr exakt lösen lässt. Schließlich gibt es weiterhin nur vier Unbekannte ($xE$, $yE$, $zE$ und $\\delta_{tE}$). Man versucht deshalb die Lösung zu finden, die den kleinsten Fehler (bzw. die kleinste Summe der Quadrate der Fehler) liefert. \n",
    "\n",
    "Du sollst nun das überbestimmte Gleichungssystem aufstellen und lösen. Wir verwenden dafür jetzt nicht mehr die Funktion `fsolve` sondern die Funktion `lsqnonlin` für überbestimmte Gleichungssysteme.\n",
    "\n",
    "*Ersetze im folgenden Code `NaN` durch ein überbestimmtes Gleichungssystem, das unter Verwendung aller Satellitendaten, die kartesichen Koordinaten des Empfängers und den Fehler in der Empfängerzeit berechnet. Drücke danach auf den \"Run\" Button. Falls du alles richtig gemacht hast, bekommst du die Lösung angezeigt.*"
   ]
  },
  {
   "cell_type": "code",
   "execution_count": 56,
   "metadata": {},
   "outputs": [
    {
     "name": "stdout",
     "output_type": "stream",
     "text": [
      "X =\n",
      "\n",
      "   4018639.45\n",
      "    427822.96\n",
      "   4918201.16\n",
      "   -111724.85\n",
      "\n",
      "fval =  441.64\n",
      "info =\n",
      "\n",
      "   11.36\n",
      "    1.47\n",
      "   -3.47\n",
      "    6.54\n",
      "  -12.14\n",
      "   -4.76\n",
      "    7.02\n",
      "   -6.02\n",
      "\n",
      "iterations =  3.00\n",
      "Dein Ergebnis ist falsch! Korrigiere dein Gleichungssystem und versuche es noch einmal.\n"
     ]
    }
   ],
   "source": [
    "% Aufstellen des Gleichungssystems\n",
    "Gleichungssystem = @(xE,yE,zE,delta_dS) [sqrt((xE-SK(1,1))^2+(yE-SK(2,1))^2+(zE-SK(3,1))^2)-(dS(1)-delta_dS)\n",
    "                                         sqrt((xE-SK(1,2))^2+(yE-SK(2,2))^2+(zE-SK(3,2))^2)-(dS(2)-delta_dS)\n",
    "                                         sqrt((xE-SK(1,3))^2+(yE-SK(2,3))^2+(zE-SK(3,3))^2)-(dS(3)-delta_dS)\n",
    "                                         sqrt((xE-SK(1,4))^2+(yE-SK(2,4))^2+(zE-SK(3,4))^2)-(dS(4)-delta_dS)\n",
    "                                         sqrt((xE-SK(1,5))^2+(yE-SK(2,5))^2+(zE-SK(3,5))^2)-(dS(5)-delta_dS)\n",
    "                                         sqrt((xE-SK(1,6))^2+(yE-SK(2,6))^2+(zE-SK(3,6))^2)-(dS(6)-delta_dS)\n",
    "                                         sqrt((xE-SK(1,7))^2+(yE-SK(2,7))^2+(zE-SK(3,7))^2)-(dS(7)-delta_dS)\n",
    "                                         sqrt((xE-SK(1,8))^2+(yE-SK(2,8))^2+(zE-SK(3,8))^2)-(dS(8)-delta_dS)];% Ersetze NaN durch ein Gleichungssystem zur Berechnung der Empfängerkoordinaten, welches den Fehler in der Empfangszeit berücksichtigt\n",
    "        \n",
    "% Definiere Funktion und Startpunkt \n",
    "Funktion = @(X) Gleichungssystem(X(1),X(2),X(3),X(4));\n",
    "SP = trilaterate(SK(:,1),SK(:,2),SK(:,3),dS(1),dS(2),dS(3));\n",
    "SP = [SP; 0];\n",
    "\n",
    "% Berechnen einer Loesung in der Naehe des Startpunktes\n",
    "pkg load optim\n",
    "[X,fval,info,iterations] = lsqnonlin(Funktion,SP)\n",
    "\n",
    "% Speichern und Ausgeben der berechneten Loesung\n",
    "xE = X(1);\n",
    "yE = X(2);\n",
    "zE = X(3);\n",
    "delta_tE = X(4)/c;\n",
    "pruefe_EmpfaengerkoordinatenAB2(xE,yE,zE,delta_tE,SP_MU,delta_tE_MU);"
   ]
  },
  {
   "cell_type": "markdown",
   "metadata": {},
   "source": [
    "Berechne nun die geografischen Koordinaten im Ellipsenmodell. Verwende dazu wieder den Referenzellipsoiden WGS 84.\n",
    "\n",
    "*Ersetze im Code alle `NaN` so, dass die geografischen Koordinaten der gefundenen Position im Ellipsenmodell berechnet werden. Die Kommentare helfen dir dabei. Drücke anschließend auf den \"Run\" Button. Falls du alles richtig gemacht hast, siehst du das Ergebnis.*"
   ]
  },
  {
   "cell_type": "code",
   "execution_count": 59,
   "metadata": {},
   "outputs": [
    {
     "name": "stdout",
     "output_type": "stream",
     "text": [
      "Die berechnete Höhe ist nicht korrekt! Pruefe deine Berechnungsformel.\n",
      "Die berechnete Breite ist nicht korrekt! Pruefe deine Berechnungsformel.\n",
      "Die berechnete Länge ist nicht korrekt! Pruefe deine Berechnungsformel.\n"
     ]
    }
   ],
   "source": [
    "% Berechnung der geographischen Koordinaten im Kugelmodell\n",
    "h_0 = sqrt(xE^2+yE^2+zE^2)-6378137.0;% Ersetze NaN durch eine Formal, mit der sich die Höhe h_0 im Kugelmodell berechnen lässt\n",
    "phi_0 = atan(zE/sqrt(xE^2+yE^2))*180/pi;% Ersetze NaN durch eine Formal, mit der sich die geografische Breite im Kugelmodell berechnen lässt\n",
    "lambda_0 = atan2(yE,xE)*180/pi;% Ersetze NaN durch eine Formal, mit der sich die geografische Länge im Kugelmodell berechnen lässt\n",
    "\n",
    "% Berechnung der geografischen Koordinaten im Ellipsenmodell\n",
    "a = 6378137;% Ersetze NaN durch die große Halbachse von WGS 84 in Metern\n",
    "b = 6356752.3142;% Ersetze NaN durch die kleine Halbachse von WGS 84 in Metern\n",
    "epsilon = sqrt(a^2-b^2)/a;% Ersetze NaN durch einen Term in a und b, der die numerische Exzentrizität berechnet\n",
    "Gleichungen = @(h,phi,lambda) [(a/sqrt(1-epsilon^2*(sind(phi)^2))+h)*cosd(phi)*cosd(lambda)-xE\n",
    "                               (a/sqrt(1-epsilon^2*(sind(phi)^2))+h)*cosd(phi)*sind(lambda)-yE\n",
    "                               (a/sqrt(1-epsilon^2*(sind(phi)^2))*(1-epsilon^2)+h)*sind(phi)-zE];% Ersetze NaN durch ein Gleichungssystem mit drei Gleichungen in den Unbekannten h, phi und lambda. Die Lösung dieses Systems sollen die geografischen Koordinaten im \"Ellipsenmodell\" sein.\n",
    "\n",
    "% Lösen des Gleichungssystem (ab hier nichts mehr ändern)\n",
    "Funktion2 = @(X) Gleichungen(X(1),X(2),X(3));\n",
    "Startpunkt2 = [h_0 phi_0 lambda_0];\n",
    "X = fsolve(Funktion2, Startpunkt2);\n",
    "h = X(1);\n",
    "phi = X(2);\n",
    "lambda = X(3);\n",
    "pruefe_geoKoordinatenEllipse(h,phi,lambda,VGK_MU);"
   ]
  },
  {
   "cell_type": "markdown",
   "metadata": {},
   "source": [
    "Jetz wollen wir uns das Ergebnis auf der Karte ansehen. Ob das Verwenden aller Satelliten zu einer signifikanten Verbesserung geführt hat?\n",
    "\n",
    "*Führe den folgenden Code aus. Daraufhin bekommst du eine URL angezeigt, die du anklicken kannst, um Google Maps mit den berechneten Koordinaten zu öffnen. Sollte der Link nicht funktionieren, kopiere die URL in deinen Web Browser.*"
   ]
  },
  {
   "cell_type": "code",
   "execution_count": 61,
   "metadata": {},
   "outputs": [
    {
     "name": "stdout",
     "output_type": "stream",
     "text": [
      "url = https://www.google.de/maps/place/50.778262,6.076800/@50.5,6.8,8z\n"
     ]
    }
   ],
   "source": [
    "% Auswaehlen des Kartenausschnitts\n",
    "Kartenausschnitt_manuell = true;\n",
    "Zentrum = '50.5,6.8';\n",
    "Zoom = '8';\n",
    "\n",
    "% Erzeugen der URL\n",
    "url = sprintf('https://www.google.de/maps/place/%f,%f',phi,lambda);\n",
    "if Kartenausschnitt_manuell\n",
    "    url = [url '/@' Zentrum ',' Zoom 'z'];\n",
    "end\n",
    "\n",
    "% Anzeigen der URL im Browser\n",
    "display(url)"
   ]
  }
 ],
 "metadata": {
  "kernelspec": {
   "display_name": "Octave",
   "language": "octave",
   "name": "octave"
  },
  "language_info": {
   "file_extension": ".m",
   "help_links": [
    {
     "text": "GNU Octave",
     "url": "https://www.gnu.org/software/octave/support.html"
    },
    {
     "text": "Octave Kernel",
     "url": "https://github.com/Calysto/octave_kernel"
    },
    {
     "text": "MetaKernel Magics",
     "url": "https://github.com/calysto/metakernel/blob/master/metakernel/magics/README.md"
    }
   ],
   "mimetype": "text/x-octave",
   "name": "octave",
   "version": "4.4.0"
  }
 },
 "nbformat": 4,
 "nbformat_minor": 2
}
