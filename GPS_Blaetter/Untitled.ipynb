{
 "cells": [
  {
   "cell_type": "markdown",
   "metadata": {},
   "source": [
    "# GPS - Aufgabenblatt 1: Ein Modell zur Positionsbestimmung\n",
    "## Einleitung\n",
    "GPS ist ein globales Navigationssatellitensystem zur Positionsbestimmung, welches mittlerweile in vielen Bereichen eingesetzt wird. Sei es im Navi, um von $A$ nach $B$ zu kommen oder bei einer Handy App, die einem sagt, wann der nächste Bus kommt. Hinter allen Anwendungen steckt die Bestimmung der aktuellen Position. Aber wie funktioniert das?\n",
    "earthGPS3.pdf\n",
    "### Die Idee hinter GPS\n",
    "Mehrere Satelliten umkreisen in ca. 20000 km Höhe die Erde und senden jede Millisekunde eine Nachricht mit ihrer aktuellen Zeit. Die Satelliten verfügen über eine eingebaute Atomuhr. Da die Nachricht mit Lichtgeschwindigkeit (299792458 $\\frac{m}{s}$) geschickt wird, werden zwischen 65 und 90 Millisekunden benötigt, um auf der Erde empfangen zu werden. Die Übertragungsdauer hängt davon ab, wie weit der Empfänger von dem Satelliten entfernt ist.\n",
    "\n",
    "Durch Vergleich der Sendezeit mit der Empfangszeit kann mit Hilfe der bekannten Geschwindigkeit der Nachricht die sogenannte **Pseudoentfernung** zu dem Satelliten berechnet werden. Mit drei Satelliten lässt sich die Position des Empfängers auf der Erde bestimmen.\n",
    "### Problembeschreibung: Bestimmen der Empfängerposition\n",
    "Es liegen selbst empfangene Satellitendaten vor, zu denen ihr die Position auf der Erde bestimmen sollt. Dies geschieht in mehreren Schritten, durch die euh dieses Aufgabenblatt leitet. \n",
    "\n",
    "\t"
   ]
  },
  {
   "cell_type": "code",
   "execution_count": null,
   "metadata": {},
   "outputs": [],
   "source": []
  }
 ],
 "metadata": {
  "kernelspec": {
   "display_name": "Julia 1.0.2",
   "language": "julia",
   "name": "julia-1.0"
  },
  "language_info": {
   "file_extension": ".jl",
   "mimetype": "application/julia",
   "name": "julia",
   "version": "1.0.2"
  }
 },
 "nbformat": 4,
 "nbformat_minor": 2
}
